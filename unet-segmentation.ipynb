{
 "cells": [
  {
   "cell_type": "code",
   "execution_count": 1,
   "metadata": {
    "pycharm": {
     "is_executing": true
    }
   },
   "outputs": [
    {
     "name": "stderr",
     "output_type": "stream",
     "text": [
      "2022-08-20 19:34:32.733992: I tensorflow/core/util/util.cc:169] oneDNN custom operations are on. You may see slightly different numerical results due to floating-point round-off errors from different computation orders. To turn them off, set the environment variable `TF_ENABLE_ONEDNN_OPTS=0`.\n"
     ]
    }
   ],
   "source": [
    "import os, pathlib, random, json\n",
    "\n",
    "import numpy as np\n",
    "import matplotlib.pyplot as plt\n",
    "\n",
    "from tensorflow.keras.preprocessing import image\n",
    "from tensorflow.keras import optimizers\n",
    "from keras.preprocessing.image import ImageDataGenerator\n",
    "import tensorflow as tf\n",
    "import models, utils"
   ]
  },
  {
   "cell_type": "code",
   "execution_count": 2,
   "metadata": {},
   "outputs": [],
   "source": [
    "base_directory = 'dataset'\n",
    "train_directory = os.path.join(base_directory, 'train')\n",
    "validate_directory = os.path.join(base_directory, 'validation')\n",
    "test_directory = os.path.join(base_directory, 'test')\n",
    "seed = 61\n",
    "\n",
    "def createGenerator(directory, batch_size=1, image_size=(384, 384), mask_size=(384, 384)):\n",
    "    image_datagen = ImageDataGenerator(rotation_range=np.pi, horizontal_flip=True, vertical_flip=True, rescale=1/255)\n",
    "    mask_datagen = ImageDataGenerator(rotation_range=np.pi, horizontal_flip=True, vertical_flip=True, rescale=1/255)\n",
    "    image_generator = image_datagen.flow_from_directory(\n",
    "        directory,\n",
    "        classes=['images'],\n",
    "        class_mode=None,\n",
    "        target_size=image_size,\n",
    "        batch_size=batch_size,\n",
    "        seed=seed\n",
    "    )\n",
    "    mask_generator = mask_datagen.flow_from_directory(\n",
    "        directory,\n",
    "        classes=['masks'],\n",
    "        class_mode=None,\n",
    "        target_size=mask_size,\n",
    "        batch_size=batch_size,\n",
    "        seed=seed\n",
    "    )\n",
    "    return zip(image_generator, mask_generator)\n"
   ]
  },
  {
   "cell_type": "code",
   "execution_count": 3,
   "metadata": {},
   "outputs": [
    {
     "name": "stdout",
     "output_type": "stream",
     "text": [
      "Found 1964 images belonging to 1 classes.\n",
      "Found 1964 images belonging to 1 classes.\n",
      "Found 491 images belonging to 1 classes.\n",
      "Found 491 images belonging to 1 classes.\n"
     ]
    }
   ],
   "source": [
    "train_generator = createGenerator(train_directory, 1, (384, 384), (384, 384))\n",
    "validate_generator = createGenerator(validate_directory, 4, (384, 384), (384, 384))"
   ]
  },
  {
   "cell_type": "code",
   "execution_count": 4,
   "metadata": {},
   "outputs": [
    {
     "name": "stdout",
     "output_type": "stream",
     "text": [
      "Model: \"model\"\n",
      "__________________________________________________________________________________________________\n",
      " Layer (type)                   Output Shape         Param #     Connected to                     \n",
      "==================================================================================================\n",
      " input_1 (InputLayer)           [(None, 384, 384, 3  0           []                               \n",
      "                                )]                                                                \n",
      "                                                                                                  \n",
      " conv2d (Conv2D)                (None, 384, 384, 64  1792        ['input_1[0][0]']                \n",
      "                                )                                                                 \n",
      "                                                                                                  \n",
      " conv2d_1 (Conv2D)              (None, 384, 384, 64  36928       ['conv2d[0][0]']                 \n",
      "                                )                                                                 \n",
      "                                                                                                  \n",
      " max_pooling2d (MaxPooling2D)   (None, 192, 192, 64  0           ['conv2d_1[0][0]']               \n",
      "                                )                                                                 \n",
      "                                                                                                  \n",
      " conv2d_2 (Conv2D)              (None, 192, 192, 12  73856       ['max_pooling2d[0][0]']          \n",
      "                                8)                                                                \n",
      "                                                                                                  \n",
      " conv2d_3 (Conv2D)              (None, 192, 192, 12  147584      ['conv2d_2[0][0]']               \n",
      "                                8)                                                                \n",
      "                                                                                                  \n",
      " max_pooling2d_1 (MaxPooling2D)  (None, 96, 96, 128)  0          ['conv2d_3[0][0]']               \n",
      "                                                                                                  \n",
      " conv2d_4 (Conv2D)              (None, 96, 96, 256)  295168      ['max_pooling2d_1[0][0]']        \n",
      "                                                                                                  \n",
      " conv2d_5 (Conv2D)              (None, 96, 96, 256)  590080      ['conv2d_4[0][0]']               \n",
      "                                                                                                  \n",
      " dropout (Dropout)              (None, 96, 96, 256)  0           ['conv2d_5[0][0]']               \n"
     ]
    },
    {
     "name": "stderr",
     "output_type": "stream",
     "text": [
      "2022-08-20 19:34:34.920948: I tensorflow/stream_executor/cuda/cuda_gpu_executor.cc:961] could not open file to read NUMA node: /sys/bus/pci/devices/0000:01:00.0/numa_node\n",
      "Your kernel may have been built without NUMA support.\n",
      "2022-08-20 19:34:34.967691: I tensorflow/stream_executor/cuda/cuda_gpu_executor.cc:961] could not open file to read NUMA node: /sys/bus/pci/devices/0000:01:00.0/numa_node\n",
      "Your kernel may have been built without NUMA support.\n",
      "2022-08-20 19:34:34.968050: I tensorflow/stream_executor/cuda/cuda_gpu_executor.cc:961] could not open file to read NUMA node: /sys/bus/pci/devices/0000:01:00.0/numa_node\n",
      "Your kernel may have been built without NUMA support.\n",
      "2022-08-20 19:34:34.968604: I tensorflow/core/platform/cpu_feature_guard.cc:193] This TensorFlow binary is optimized with oneAPI Deep Neural Network Library (oneDNN) to use the following CPU instructions in performance-critical operations:  AVX2 AVX_VNNI FMA\n",
      "To enable them in other operations, rebuild TensorFlow with the appropriate compiler flags.\n",
      "2022-08-20 19:34:34.970032: I tensorflow/stream_executor/cuda/cuda_gpu_executor.cc:961] could not open file to read NUMA node: /sys/bus/pci/devices/0000:01:00.0/numa_node\n",
      "Your kernel may have been built without NUMA support.\n",
      "2022-08-20 19:34:34.970725: I tensorflow/stream_executor/cuda/cuda_gpu_executor.cc:961] could not open file to read NUMA node: /sys/bus/pci/devices/0000:01:00.0/numa_node\n",
      "Your kernel may have been built without NUMA support.\n",
      "2022-08-20 19:34:34.970959: I tensorflow/stream_executor/cuda/cuda_gpu_executor.cc:961] could not open file to read NUMA node: /sys/bus/pci/devices/0000:01:00.0/numa_node\n",
      "Your kernel may have been built without NUMA support.\n",
      "2022-08-20 19:34:35.935829: I tensorflow/stream_executor/cuda/cuda_gpu_executor.cc:961] could not open file to read NUMA node: /sys/bus/pci/devices/0000:01:00.0/numa_node\n",
      "Your kernel may have been built without NUMA support.\n",
      "2022-08-20 19:34:35.937224: I tensorflow/stream_executor/cuda/cuda_gpu_executor.cc:961] could not open file to read NUMA node: /sys/bus/pci/devices/0000:01:00.0/numa_node\n",
      "Your kernel may have been built without NUMA support.\n",
      "2022-08-20 19:34:35.937231: I tensorflow/core/common_runtime/gpu/gpu_device.cc:1616] Could not identify NUMA node of platform GPU id 0, defaulting to 0.  Your kernel may not have been built with NUMA support.\n",
      "2022-08-20 19:34:35.938270: I tensorflow/stream_executor/cuda/cuda_gpu_executor.cc:961] could not open file to read NUMA node: /sys/bus/pci/devices/0000:01:00.0/numa_node\n",
      "Your kernel may have been built without NUMA support.\n",
      "2022-08-20 19:34:35.938312: I tensorflow/core/common_runtime/gpu/gpu_device.cc:1532] Created device /job:localhost/replica:0/task:0/device:GPU:0 with 1617 MB memory:  -> device: 0, name: NVIDIA GeForce RTX 3050 Ti Laptop GPU, pci bus id: 0000:01:00.0, compute capability: 8.6\n",
      "/home/adrian/PythonProjects/envs/tensorflow/lib/python3.9/site-packages/keras/optimizers/optimizer_v2/adam.py:110: UserWarning: The `lr` argument is deprecated, use `learning_rate` instead.\n",
      "  super(Adam, self).__init__(name, **kwargs)\n"
     ]
    },
    {
     "name": "stdout",
     "output_type": "stream",
     "text": [
      "                                                                                                  \n",
      " max_pooling2d_2 (MaxPooling2D)  (None, 48, 48, 256)  0          ['dropout[0][0]']                \n",
      "                                                                                                  \n",
      " conv2d_6 (Conv2D)              (None, 48, 48, 512)  1180160     ['max_pooling2d_2[0][0]']        \n",
      "                                                                                                  \n",
      " conv2d_7 (Conv2D)              (None, 48, 48, 512)  2359808     ['conv2d_6[0][0]']               \n",
      "                                                                                                  \n",
      " dropout_1 (Dropout)            (None, 48, 48, 512)  0           ['conv2d_7[0][0]']               \n",
      "                                                                                                  \n",
      " up_sampling2d (UpSampling2D)   (None, 96, 96, 512)  0           ['dropout_1[0][0]']              \n",
      "                                                                                                  \n",
      " concatenate (Concatenate)      (None, 96, 96, 768)  0           ['conv2d_5[0][0]',               \n",
      "                                                                  'up_sampling2d[0][0]']          \n",
      "                                                                                                  \n",
      " conv2d_8 (Conv2D)              (None, 96, 96, 256)  1769728     ['concatenate[0][0]']            \n",
      "                                                                                                  \n",
      " conv2d_9 (Conv2D)              (None, 96, 96, 256)  590080      ['conv2d_8[0][0]']               \n",
      "                                                                                                  \n",
      " up_sampling2d_1 (UpSampling2D)  (None, 192, 192, 25  0          ['conv2d_9[0][0]']               \n",
      "                                6)                                                                \n",
      "                                                                                                  \n",
      " concatenate_1 (Concatenate)    (None, 192, 192, 38  0           ['conv2d_3[0][0]',               \n",
      "                                4)                                'up_sampling2d_1[0][0]']        \n",
      "                                                                                                  \n",
      " conv2d_10 (Conv2D)             (None, 192, 192, 12  442496      ['concatenate_1[0][0]']          \n",
      "                                8)                                                                \n",
      "                                                                                                  \n",
      " conv2d_11 (Conv2D)             (None, 192, 192, 12  147584      ['conv2d_10[0][0]']              \n",
      "                                8)                                                                \n",
      "                                                                                                  \n",
      " up_sampling2d_2 (UpSampling2D)  (None, 384, 384, 12  0          ['conv2d_11[0][0]']              \n",
      "                                8)                                                                \n",
      "                                                                                                  \n",
      " concatenate_2 (Concatenate)    (None, 384, 384, 19  0           ['conv2d_1[0][0]',               \n",
      "                                2)                                'up_sampling2d_2[0][0]']        \n",
      "                                                                                                  \n",
      " conv2d_12 (Conv2D)             (None, 384, 384, 64  110656      ['concatenate_2[0][0]']          \n",
      "                                )                                                                 \n",
      "                                                                                                  \n",
      " conv2d_13 (Conv2D)             (None, 384, 384, 64  36928       ['conv2d_12[0][0]']              \n",
      "                                )                                                                 \n",
      "                                                                                                  \n",
      " conv2d_14 (Conv2D)             (None, 384, 384, 2)  1154        ['conv2d_13[0][0]']              \n",
      "                                                                                                  \n",
      " conv2d_15 (Conv2D)             (None, 384, 384, 1)  3           ['conv2d_14[0][0]']              \n",
      "                                                                                                  \n",
      "==================================================================================================\n",
      "Total params: 7,784,005\n",
      "Trainable params: 7,784,005\n",
      "Non-trainable params: 0\n",
      "__________________________________________________________________________________________________\n"
     ]
    }
   ],
   "source": [
    "model = models.padding_model()\n",
    "model.summary()"
   ]
  },
  {
   "cell_type": "code",
   "execution_count": 5,
   "metadata": {},
   "outputs": [
    {
     "name": "stdout",
     "output_type": "stream",
     "text": [
      "Epoch 1/100\n"
     ]
    },
    {
     "name": "stderr",
     "output_type": "stream",
     "text": [
      "2022-08-20 19:34:38.433861: I tensorflow/stream_executor/cuda/cuda_dnn.cc:384] Loaded cuDNN version 8500\n",
      "2022-08-20 19:34:39.423337: I tensorflow/core/platform/default/subprocess.cc:304] Start cannot spawn child process: No such file or directory\n",
      "2022-08-20 19:34:39.702382: W tensorflow/core/common_runtime/bfc_allocator.cc:290] Allocator (GPU_0_bfc) ran out of memory trying to allocate 2.55GiB with freed_by_count=0. The caller indicates that this is not a failure, but this may mean that there could be performance gains if more memory were available.\n",
      "2022-08-20 19:34:39.702444: W tensorflow/core/common_runtime/bfc_allocator.cc:290] Allocator (GPU_0_bfc) ran out of memory trying to allocate 2.55GiB with freed_by_count=0. The caller indicates that this is not a failure, but this may mean that there could be performance gains if more memory were available.\n",
      "2022-08-20 19:34:40.598589: W tensorflow/core/common_runtime/bfc_allocator.cc:290] Allocator (GPU_0_bfc) ran out of memory trying to allocate 1.31GiB with freed_by_count=0. The caller indicates that this is not a failure, but this may mean that there could be performance gains if more memory were available.\n",
      "2022-08-20 19:34:40.598637: W tensorflow/core/common_runtime/bfc_allocator.cc:290] Allocator (GPU_0_bfc) ran out of memory trying to allocate 1.31GiB with freed_by_count=0. The caller indicates that this is not a failure, but this may mean that there could be performance gains if more memory were available.\n",
      "2022-08-20 19:34:40.826642: W tensorflow/core/common_runtime/bfc_allocator.cc:290] Allocator (GPU_0_bfc) ran out of memory trying to allocate 2.55GiB with freed_by_count=0. The caller indicates that this is not a failure, but this may mean that there could be performance gains if more memory were available.\n",
      "2022-08-20 19:34:40.826698: W tensorflow/core/common_runtime/bfc_allocator.cc:290] Allocator (GPU_0_bfc) ran out of memory trying to allocate 2.55GiB with freed_by_count=0. The caller indicates that this is not a failure, but this may mean that there could be performance gains if more memory were available.\n",
      "2022-08-20 19:34:40.880648: W tensorflow/core/common_runtime/bfc_allocator.cc:290] Allocator (GPU_0_bfc) ran out of memory trying to allocate 988.00MiB with freed_by_count=0. The caller indicates that this is not a failure, but this may mean that there could be performance gains if more memory were available.\n",
      "2022-08-20 19:34:40.880702: W tensorflow/core/common_runtime/bfc_allocator.cc:290] Allocator (GPU_0_bfc) ran out of memory trying to allocate 988.00MiB with freed_by_count=0. The caller indicates that this is not a failure, but this may mean that there could be performance gains if more memory were available.\n",
      "2022-08-20 19:34:41.101403: W tensorflow/core/common_runtime/bfc_allocator.cc:290] Allocator (GPU_0_bfc) ran out of memory trying to allocate 1.32GiB with freed_by_count=0. The caller indicates that this is not a failure, but this may mean that there could be performance gains if more memory were available.\n",
      "2022-08-20 19:34:41.101451: W tensorflow/core/common_runtime/bfc_allocator.cc:290] Allocator (GPU_0_bfc) ran out of memory trying to allocate 1.32GiB with freed_by_count=0. The caller indicates that this is not a failure, but this may mean that there could be performance gains if more memory were available.\n"
     ]
    },
    {
     "name": "stdout",
     "output_type": "stream",
     "text": [
      "400/400 [==============================] - 72s 163ms/step - loss: 0.4605 - acc: 0.7636 - val_loss: 0.3909 - val_acc: 0.7886\n",
      "Epoch 2/100\n",
      "400/400 [==============================] - 64s 160ms/step - loss: 0.4169 - acc: 0.8181 - val_loss: 0.4178 - val_acc: 0.8311\n",
      "Epoch 3/100\n",
      "400/400 [==============================] - 66s 165ms/step - loss: 0.3950 - acc: 0.8341 - val_loss: 0.3871 - val_acc: 0.8483\n",
      "Epoch 4/100\n",
      "400/400 [==============================] - 64s 159ms/step - loss: 0.3846 - acc: 0.8402 - val_loss: 0.4333 - val_acc: 0.8260\n",
      "Epoch 5/100\n",
      "400/400 [==============================] - 64s 159ms/step - loss: 0.3819 - acc: 0.8449 - val_loss: 0.3538 - val_acc: 0.8525\n",
      "Epoch 6/100\n",
      "400/400 [==============================] - 64s 159ms/step - loss: 0.4062 - acc: 0.8279 - val_loss: 0.3575 - val_acc: 0.8638\n",
      "Epoch 7/100\n",
      "400/400 [==============================] - 63s 159ms/step - loss: 0.3839 - acc: 0.8389 - val_loss: 0.3862 - val_acc: 0.8442\n",
      "Epoch 8/100\n",
      "400/400 [==============================] - 63s 158ms/step - loss: 0.3668 - acc: 0.8394 - val_loss: 0.3832 - val_acc: 0.8419\n",
      "Epoch 9/100\n",
      "400/400 [==============================] - 63s 158ms/step - loss: 0.3493 - acc: 0.8509 - val_loss: 0.3247 - val_acc: 0.8750\n",
      "Epoch 10/100\n",
      "400/400 [==============================] - 64s 159ms/step - loss: 0.3222 - acc: 0.8757 - val_loss: 0.3464 - val_acc: 0.8618\n",
      "Epoch 11/100\n",
      "400/400 [==============================] - 64s 159ms/step - loss: 0.3330 - acc: 0.8668 - val_loss: 0.3259 - val_acc: 0.8722\n",
      "Epoch 12/100\n",
      "400/400 [==============================] - 63s 158ms/step - loss: 0.3634 - acc: 0.8450 - val_loss: 0.3341 - val_acc: 0.8696\n",
      "Epoch 13/100\n",
      "400/400 [==============================] - 63s 158ms/step - loss: 0.3366 - acc: 0.8650 - val_loss: 0.3878 - val_acc: 0.8498\n",
      "Epoch 14/100\n",
      "400/400 [==============================] - 64s 160ms/step - loss: 0.3166 - acc: 0.8706 - val_loss: 0.4024 - val_acc: 0.8483\n",
      "Epoch 15/100\n",
      "400/400 [==============================] - 63s 159ms/step - loss: 0.3011 - acc: 0.8804 - val_loss: 0.3062 - val_acc: 0.8798\n",
      "Epoch 16/100\n",
      "400/400 [==============================] - 63s 159ms/step - loss: 0.2834 - acc: 0.8899 - val_loss: 0.3431 - val_acc: 0.8711\n",
      "Epoch 17/100\n",
      "400/400 [==============================] - 63s 158ms/step - loss: 0.3183 - acc: 0.8780 - val_loss: 0.2910 - val_acc: 0.8908\n",
      "Epoch 18/100\n",
      "400/400 [==============================] - 64s 160ms/step - loss: 0.3194 - acc: 0.8751 - val_loss: 0.3262 - val_acc: 0.8782\n",
      "Epoch 19/100\n",
      "400/400 [==============================] - 63s 159ms/step - loss: 0.3137 - acc: 0.8843 - val_loss: 0.2925 - val_acc: 0.8922\n",
      "Epoch 20/100\n",
      "400/400 [==============================] - 63s 158ms/step - loss: 0.3106 - acc: 0.8799 - val_loss: 0.2996 - val_acc: 0.8715\n",
      "Epoch 21/100\n",
      "400/400 [==============================] - 63s 159ms/step - loss: 0.3052 - acc: 0.8813 - val_loss: 0.2865 - val_acc: 0.8926\n",
      "Epoch 22/100\n",
      "400/400 [==============================] - 63s 159ms/step - loss: 0.3053 - acc: 0.8858 - val_loss: 0.3138 - val_acc: 0.8811\n",
      "Epoch 23/100\n",
      "400/400 [==============================] - 63s 159ms/step - loss: 0.3011 - acc: 0.8855 - val_loss: 0.2930 - val_acc: 0.8934\n",
      "Epoch 24/100\n",
      "400/400 [==============================] - 63s 158ms/step - loss: 0.2890 - acc: 0.8879 - val_loss: 0.3063 - val_acc: 0.8861\n",
      "Epoch 25/100\n",
      "400/400 [==============================] - 64s 159ms/step - loss: 0.3000 - acc: 0.8861 - val_loss: 0.2891 - val_acc: 0.8779\n",
      "Epoch 26/100\n",
      "400/400 [==============================] - 64s 159ms/step - loss: 0.2965 - acc: 0.8869 - val_loss: 0.3034 - val_acc: 0.8731\n",
      "Epoch 27/100\n",
      "400/400 [==============================] - 63s 159ms/step - loss: 0.3081 - acc: 0.8805 - val_loss: 0.3106 - val_acc: 0.8839\n",
      "Epoch 28/100\n",
      "400/400 [==============================] - 63s 158ms/step - loss: 0.2964 - acc: 0.8887 - val_loss: 0.3113 - val_acc: 0.8840\n",
      "Epoch 29/100\n",
      "400/400 [==============================] - 63s 158ms/step - loss: 0.2675 - acc: 0.8981 - val_loss: 0.2995 - val_acc: 0.8792\n",
      "Epoch 30/100\n",
      "400/400 [==============================] - 63s 158ms/step - loss: 0.2839 - acc: 0.8932 - val_loss: 0.3048 - val_acc: 0.8899\n",
      "Epoch 31/100\n",
      "400/400 [==============================] - 64s 159ms/step - loss: 0.2854 - acc: 0.8898 - val_loss: 0.2758 - val_acc: 0.8949\n",
      "Epoch 32/100\n",
      "400/400 [==============================] - 63s 158ms/step - loss: 0.2941 - acc: 0.8906 - val_loss: 0.3691 - val_acc: 0.8632\n",
      "Epoch 33/100\n",
      "400/400 [==============================] - 64s 159ms/step - loss: 0.2721 - acc: 0.8944 - val_loss: 0.2799 - val_acc: 0.8950\n",
      "Epoch 34/100\n",
      "400/400 [==============================] - 63s 159ms/step - loss: 0.2893 - acc: 0.8909 - val_loss: 0.3287 - val_acc: 0.8862\n",
      "Epoch 35/100\n",
      "400/400 [==============================] - 63s 159ms/step - loss: 0.2770 - acc: 0.8937 - val_loss: 0.3196 - val_acc: 0.8682\n",
      "Epoch 36/100\n",
      "400/400 [==============================] - 63s 158ms/step - loss: 0.3061 - acc: 0.8835 - val_loss: 0.3259 - val_acc: 0.8844\n",
      "Epoch 37/100\n",
      "400/400 [==============================] - 63s 159ms/step - loss: 0.2557 - acc: 0.9010 - val_loss: 0.3425 - val_acc: 0.8682\n",
      "Epoch 38/100\n",
      "400/400 [==============================] - 67s 168ms/step - loss: 0.2633 - acc: 0.9046 - val_loss: 0.2808 - val_acc: 0.8999\n",
      "Epoch 39/100\n",
      "400/400 [==============================] - 66s 166ms/step - loss: 0.2722 - acc: 0.8985 - val_loss: 0.2713 - val_acc: 0.8999\n",
      "Epoch 40/100\n",
      "400/400 [==============================] - 63s 159ms/step - loss: 0.2602 - acc: 0.8998 - val_loss: 0.2878 - val_acc: 0.8915\n",
      "Epoch 41/100\n",
      "400/400 [==============================] - 64s 159ms/step - loss: 0.2831 - acc: 0.8889 - val_loss: 0.2458 - val_acc: 0.9059\n",
      "Epoch 42/100\n",
      "400/400 [==============================] - 63s 158ms/step - loss: 0.2755 - acc: 0.8956 - val_loss: 0.3023 - val_acc: 0.8842\n",
      "Epoch 43/100\n",
      "400/400 [==============================] - 63s 158ms/step - loss: 0.2693 - acc: 0.8978 - val_loss: 0.2532 - val_acc: 0.9070\n",
      "Epoch 44/100\n",
      "400/400 [==============================] - 64s 159ms/step - loss: 0.2538 - acc: 0.9027 - val_loss: 0.3164 - val_acc: 0.8943\n",
      "Epoch 45/100\n",
      "400/400 [==============================] - 63s 159ms/step - loss: 0.2687 - acc: 0.8949 - val_loss: 0.2742 - val_acc: 0.8997\n",
      "Epoch 46/100\n",
      "400/400 [==============================] - 63s 158ms/step - loss: 0.2557 - acc: 0.9022 - val_loss: 0.2698 - val_acc: 0.8924\n",
      "Epoch 47/100\n",
      "400/400 [==============================] - 63s 158ms/step - loss: 0.2427 - acc: 0.9108 - val_loss: 0.2690 - val_acc: 0.9022\n",
      "Epoch 48/100\n",
      "400/400 [==============================] - 64s 159ms/step - loss: 0.2947 - acc: 0.8799 - val_loss: 0.2976 - val_acc: 0.8907\n",
      "Epoch 49/100\n",
      "400/400 [==============================] - 63s 158ms/step - loss: 0.2773 - acc: 0.8947 - val_loss: 0.2820 - val_acc: 0.8891\n",
      "Epoch 50/100\n",
      "400/400 [==============================] - 63s 158ms/step - loss: 0.2532 - acc: 0.9029 - val_loss: 0.2665 - val_acc: 0.8990\n",
      "Epoch 51/100\n",
      "400/400 [==============================] - 63s 158ms/step - loss: 0.2588 - acc: 0.9028 - val_loss: 0.2889 - val_acc: 0.8831\n",
      "Epoch 52/100\n",
      "400/400 [==============================] - 63s 159ms/step - loss: 0.2532 - acc: 0.9064 - val_loss: 0.2671 - val_acc: 0.9022\n",
      "Epoch 53/100\n",
      "400/400 [==============================] - 63s 158ms/step - loss: 0.2690 - acc: 0.8943 - val_loss: 0.2714 - val_acc: 0.8974\n",
      "Epoch 54/100\n",
      "400/400 [==============================] - 63s 158ms/step - loss: 0.2616 - acc: 0.8996 - val_loss: 0.2682 - val_acc: 0.8998\n",
      "Epoch 55/100\n",
      "400/400 [==============================] - 63s 158ms/step - loss: 0.2591 - acc: 0.8987 - val_loss: 0.2521 - val_acc: 0.9055\n",
      "Epoch 56/100\n",
      "400/400 [==============================] - 63s 158ms/step - loss: 0.2726 - acc: 0.8937 - val_loss: 0.3112 - val_acc: 0.8792\n",
      "Epoch 57/100\n",
      "400/400 [==============================] - 63s 158ms/step - loss: 0.2744 - acc: 0.8935 - val_loss: 0.2733 - val_acc: 0.8889\n",
      "Epoch 58/100\n",
      "400/400 [==============================] - 63s 158ms/step - loss: 0.2496 - acc: 0.9054 - val_loss: 0.2497 - val_acc: 0.9034\n",
      "Epoch 59/100\n",
      "400/400 [==============================] - 64s 159ms/step - loss: 0.2307 - acc: 0.9084 - val_loss: 0.2752 - val_acc: 0.8963\n",
      "Epoch 60/100\n",
      "400/400 [==============================] - 63s 159ms/step - loss: 0.2559 - acc: 0.9015 - val_loss: 0.2664 - val_acc: 0.8925\n",
      "Epoch 61/100\n",
      "400/400 [==============================] - 63s 158ms/step - loss: 0.2557 - acc: 0.9014 - val_loss: 0.2853 - val_acc: 0.9052\n",
      "Epoch 62/100\n",
      "400/400 [==============================] - 63s 157ms/step - loss: 0.2658 - acc: 0.8950 - val_loss: 0.3109 - val_acc: 0.8837\n",
      "Epoch 63/100\n",
      "400/400 [==============================] - 63s 158ms/step - loss: 0.2319 - acc: 0.9078 - val_loss: 0.3575 - val_acc: 0.8657\n",
      "Epoch 64/100\n",
      "400/400 [==============================] - 63s 159ms/step - loss: 0.2434 - acc: 0.9054 - val_loss: 0.3169 - val_acc: 0.8921\n",
      "Epoch 65/100\n",
      "400/400 [==============================] - 63s 158ms/step - loss: 0.2561 - acc: 0.9015 - val_loss: 0.2916 - val_acc: 0.8778\n",
      "Epoch 66/100\n",
      "400/400 [==============================] - 63s 158ms/step - loss: 0.2253 - acc: 0.9134 - val_loss: 0.2954 - val_acc: 0.8921\n",
      "Epoch 67/100\n",
      "400/400 [==============================] - 63s 159ms/step - loss: 0.2470 - acc: 0.9041 - val_loss: 0.3233 - val_acc: 0.8823\n",
      "Epoch 68/100\n",
      "400/400 [==============================] - 63s 158ms/step - loss: 0.2464 - acc: 0.9037 - val_loss: 0.2862 - val_acc: 0.8888\n",
      "Epoch 69/100\n",
      "400/400 [==============================] - 63s 158ms/step - loss: 0.2503 - acc: 0.8993 - val_loss: 0.2961 - val_acc: 0.8908\n",
      "Epoch 70/100\n",
      "400/400 [==============================] - 63s 158ms/step - loss: 0.2431 - acc: 0.9021 - val_loss: 0.2311 - val_acc: 0.9133\n",
      "Epoch 71/100\n",
      "400/400 [==============================] - 63s 159ms/step - loss: 0.2456 - acc: 0.9028 - val_loss: 0.2648 - val_acc: 0.9021\n",
      "Epoch 72/100\n",
      "400/400 [==============================] - 63s 158ms/step - loss: 0.2489 - acc: 0.9023 - val_loss: 0.3578 - val_acc: 0.8737\n",
      "Epoch 73/100\n",
      "400/400 [==============================] - 63s 158ms/step - loss: 0.2476 - acc: 0.9027 - val_loss: 0.2348 - val_acc: 0.9073\n",
      "Epoch 74/100\n",
      "400/400 [==============================] - 63s 158ms/step - loss: 0.2613 - acc: 0.8945 - val_loss: 0.2533 - val_acc: 0.9016\n",
      "Epoch 75/100\n",
      "400/400 [==============================] - 63s 158ms/step - loss: 0.2496 - acc: 0.9004 - val_loss: 0.2472 - val_acc: 0.9027\n",
      "Epoch 76/100\n",
      "400/400 [==============================] - 63s 158ms/step - loss: 0.2376 - acc: 0.9098 - val_loss: 0.3481 - val_acc: 0.8796\n",
      "Epoch 77/100\n",
      "400/400 [==============================] - 63s 158ms/step - loss: 0.2268 - acc: 0.9126 - val_loss: 0.2751 - val_acc: 0.8905\n",
      "Epoch 78/100\n",
      "400/400 [==============================] - 63s 158ms/step - loss: 0.2273 - acc: 0.9097 - val_loss: 0.3769 - val_acc: 0.8813\n",
      "Epoch 79/100\n",
      "400/400 [==============================] - 63s 159ms/step - loss: 0.2476 - acc: 0.9010 - val_loss: 0.2387 - val_acc: 0.9013\n",
      "Epoch 80/100\n",
      "400/400 [==============================] - 63s 158ms/step - loss: 0.2488 - acc: 0.9001 - val_loss: 0.2245 - val_acc: 0.9095\n",
      "Epoch 81/100\n",
      "400/400 [==============================] - 63s 157ms/step - loss: 0.2660 - acc: 0.8987 - val_loss: 0.2946 - val_acc: 0.8836\n",
      "Epoch 82/100\n",
      "400/400 [==============================] - 63s 159ms/step - loss: 0.2103 - acc: 0.9140 - val_loss: 0.2294 - val_acc: 0.9090\n",
      "Epoch 83/100\n",
      "400/400 [==============================] - 63s 158ms/step - loss: 0.2280 - acc: 0.9101 - val_loss: 0.2619 - val_acc: 0.8948\n",
      "Epoch 84/100\n",
      "400/400 [==============================] - 63s 158ms/step - loss: 0.2459 - acc: 0.9026 - val_loss: 0.2408 - val_acc: 0.9054\n",
      "Epoch 85/100\n",
      "400/400 [==============================] - 63s 157ms/step - loss: 0.2482 - acc: 0.8999 - val_loss: 0.2341 - val_acc: 0.9079\n",
      "Epoch 86/100\n",
      "400/400 [==============================] - 64s 159ms/step - loss: 0.2177 - acc: 0.9156 - val_loss: 0.2758 - val_acc: 0.8950\n",
      "Epoch 87/100\n",
      "400/400 [==============================] - 63s 158ms/step - loss: 0.2337 - acc: 0.9029 - val_loss: 0.2643 - val_acc: 0.8870\n",
      "Epoch 88/100\n",
      "400/400 [==============================] - 63s 158ms/step - loss: 0.2279 - acc: 0.9059 - val_loss: 0.2515 - val_acc: 0.9016\n",
      "Epoch 89/100\n",
      "400/400 [==============================] - 63s 158ms/step - loss: 0.2334 - acc: 0.9049 - val_loss: 0.2439 - val_acc: 0.9073\n",
      "Epoch 90/100\n",
      "400/400 [==============================] - 63s 158ms/step - loss: 0.2255 - acc: 0.9114 - val_loss: 0.2696 - val_acc: 0.8944\n",
      "Epoch 91/100\n",
      "400/400 [==============================] - 63s 158ms/step - loss: 0.2191 - acc: 0.9102 - val_loss: 0.3426 - val_acc: 0.8828\n",
      "Epoch 92/100\n",
      "400/400 [==============================] - 63s 157ms/step - loss: 0.2476 - acc: 0.9009 - val_loss: 0.2311 - val_acc: 0.9106\n",
      "Epoch 93/100\n",
      "400/400 [==============================] - 63s 158ms/step - loss: 0.2121 - acc: 0.9157 - val_loss: 0.3947 - val_acc: 0.8829\n",
      "Epoch 94/100\n",
      "400/400 [==============================] - 63s 158ms/step - loss: 0.2412 - acc: 0.9007 - val_loss: 0.2719 - val_acc: 0.8944\n",
      "Epoch 95/100\n",
      "400/400 [==============================] - 63s 158ms/step - loss: 0.2310 - acc: 0.9039 - val_loss: 0.2584 - val_acc: 0.9018\n",
      "Epoch 96/100\n",
      "400/400 [==============================] - 63s 158ms/step - loss: 0.2222 - acc: 0.9097 - val_loss: 0.3192 - val_acc: 0.8798\n",
      "Epoch 97/100\n",
      "400/400 [==============================] - 64s 159ms/step - loss: 0.2307 - acc: 0.9055 - val_loss: 0.3485 - val_acc: 0.8739\n",
      "Epoch 98/100\n",
      "400/400 [==============================] - 63s 159ms/step - loss: 0.2511 - acc: 0.9003 - val_loss: 0.2303 - val_acc: 0.9041\n",
      "Epoch 99/100\n",
      "400/400 [==============================] - 63s 158ms/step - loss: 0.2150 - acc: 0.9116 - val_loss: 0.2599 - val_acc: 0.8996\n",
      "Epoch 100/100\n",
      "400/400 [==============================] - 63s 158ms/step - loss: 0.2320 - acc: 0.9099 - val_loss: 0.2693 - val_acc: 0.8979\n"
     ]
    }
   ],
   "source": [
    "history = model.fit(train_generator, batch_size=1, steps_per_epoch=400, epochs=100, verbose=1, \n",
    "                    validation_data=validate_generator, validation_batch_size=4, validation_steps=50)"
   ]
  },
  {
   "cell_type": "code",
   "execution_count": 6,
   "metadata": {},
   "outputs": [],
   "source": [
    "import matplotlib.pyplot as plt\n",
    "import json\n",
    "\n",
    "def plot_graphs(history, smooth = False):\n",
    "    \n",
    "    def smooth_curve(points, factor=0.8):\n",
    "        smoothed_points = []\n",
    "        for point in points:\n",
    "            if smoothed_points:\n",
    "                previous = smoothed_points[-1]\n",
    "                smoothed_points.append(previous * factor + point * (1 - factor))\n",
    "            else:\n",
    "                smoothed_points.append(point)\n",
    "        return smoothed_points\n",
    "   \n",
    "    acc = smooth_curve(history['acc']) if smooth else history['acc']\n",
    "    val_acc = smooth_curve(history['val_acc']) if smooth else history['val_acc']\n",
    "    loss = smooth_curve(history['loss']) if smooth else history['loss']\n",
    "    val_loss = smooth_curve(history['val_loss']) if smooth else history['val_loss']\n",
    "    epochs = range(1, len(acc) + 1)\n",
    "\n",
    "    plt.plot(epochs, acc, 'bo', label='Training acc')\n",
    "    plt.plot(epochs, val_acc, 'b', label='Validation acc')\n",
    "    plt.title('Training and validation accuracy')\n",
    "    plt.legend()\n",
    "    \n",
    "    plt.figure()\n",
    "    plt.plot(epochs, loss, 'bo', label='Training loss')\n",
    "    plt.plot(epochs, val_loss, 'b', label='Validation loss')\n",
    "    plt.title('Training and validation loss')\n",
    "    plt.legend()\n",
    "    plt.show()\n",
    "\n",
    "def save_dict_as_json(data, file_name):\n",
    "    with open(file_name + \".json\", \"w\") as fp:\n",
    "        json.dump(data,fp, indent = 4) "
   ]
  },
  {
   "cell_type": "code",
   "execution_count": 7,
   "metadata": {},
   "outputs": [
    {
     "data": {
      "image/png": "[encoded data removed]",
      "text/plain": [
       "<Figure size 432x288 with 1 Axes>"
      ]
     },
     "metadata": {
      "needs_background": "light"
     },
     "output_type": "display_data"
    },
    {
     "data": {
      "image/png": "[encoded data removed]",
      "text/plain": [
       "<Figure size 432x288 with 1 Axes>"
      ]
     },
     "metadata": {
      "needs_background": "light"
     },
     "output_type": "display_data"
    }
   ],
   "source": [
    "plot_graphs(history.history, smooth=True)"
   ]
  },
  {
   "cell_type": "code",
   "execution_count": 8,
   "metadata": {},
   "outputs": [
    {
     "name": "stdout",
     "output_type": "stream",
     "text": [
      "Found 410 images belonging to 1 classes.\n",
      "Found 410 images belonging to 1 classes.\n",
      "400/400 [==============================] - 20s 50ms/step - loss: 0.2511 - acc: 0.9030\n",
      "test loss: 0.2510625720024109\n",
      "test acc: 0.9030250906944275\n"
     ]
    }
   ],
   "source": [
    "test_generator = createGenerator(test_directory, 1, (384, 384), (384, 384))\n",
    "test_loss, test_acc = model.evaluate(test_generator, steps=400)\n",
    "print('test loss:', test_loss)\n",
    "print('test acc:', test_acc)"
   ]
  },
  {
   "cell_type": "code",
   "execution_count": 10,
   "metadata": {},
   "outputs": [],
   "source": [
    "#save_dict_as_json(history.history, \"modelpadding\")\n",
    "#model.save(\"modelpadding.h5\")"
   ]
  }
 ],
 "metadata": {
  "kernelspec": {
   "display_name": "Python 3.9.5 ('tensorflow')",
   "language": "python",
   "name": "python3"
  },
  "language_info": {
   "codemirror_mode": {
    "name": "ipython",
    "version": 3
   },
   "file_extension": ".py",
   "mimetype": "text/x-python",
   "name": "python",
   "nbconvert_exporter": "python",
   "pygments_lexer": "ipython3",
   "version": "3.9.5"
  },
  "pycharm": {
   "stem_cell": {
    "cell_type": "raw",
    "metadata": {
     "collapsed": false
    },
    "source": []
   }
  },
  "vscode": {
   "interpreter": {
    "hash": "7df6111708a930f1435d4476e602787c04b68c838a0c4e589aa1a4ba3b9fc581"
   }
  }
 },
 "nbformat": 4,
 "nbformat_minor": 1
}
