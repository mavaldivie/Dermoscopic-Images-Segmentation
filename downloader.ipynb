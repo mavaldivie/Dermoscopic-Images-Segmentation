{
 "cells": [
  {
   "cell_type": "code",
   "execution_count": 6,
   "metadata": {},
   "outputs": [],
   "source": [
    "from directories import *\n",
    "import os, shutil\n",
    "\n",
    "\n",
    "all_masks_directory = os.path.join(base_directory, 'allmasks')\n",
    "for oldname in os.listdir(all_masks_directory):\n",
    "    olddirection = os.path.join(all_masks_directory, oldname)\n",
    "    splitname = oldname.split('_');\n",
    "    newname = splitname[0] + '_' + splitname[1] + '.png'\n",
    "    newdirection = os.path.join(all_masks_directory, newname)\n",
    "    os.rename(olddirection, newdirection)\n"
   ]
  },
  {
   "cell_type": "code",
   "execution_count": 4,
   "metadata": {},
   "outputs": [],
   "source": [
    "recycle = os.path.join(base_directory, 'masks')\n",
    "\n",
    "images_directory = test_images_directory\n",
    "masks_directory = test_masks_directory\n",
    "for name in os.listdir(masks_directory):\n",
    "    if not name in allimagesnames:\n",
    "        mask_direction = os.path.join(masks_directory, name)\n",
    "        new_direction = os.path.join(recycle, name)\n",
    "        shutil.copy(mask_direction, new_direction)\n",
    "    else:\n",
    "    #if name in allimagesnames:\n",
    "        image_direction = os.path.join(all_images_directory, name)\n",
    "        new_direction = os.path.join(images_directory, name)\n",
    "        shutil.copy(image_direction, new_direction)\n",
    "\n"
   ]
  },
  {
   "cell_type": "code",
   "execution_count": 15,
   "metadata": {},
   "outputs": [
    {
     "name": "stdout",
     "output_type": "stream",
     "text": [
      "dataset/images/ISIC_0014031.png\n"
     ]
    }
   ],
   "source": [
    "import requests\n",
    "recycle = os.path.join(base_directory, 'masks')\n",
    "recycle_images = os.path.join(base_directory, 'images')\n",
    "for name in os.listdir(recycle):\n",
    "    directory = os.path.join(recycle_images, name)\n",
    "    if os.path.exists(directory): continue\n",
    "\n",
    "    try:\n",
    "        id, _ = name.split('.');\n",
    "        url = \"https://api.isic-archive.com/api/v2/images/\" + id \n",
    "        json = requests.get(url, timeout=10).json()\n",
    "        url = json['files']['full']['url']\n",
    "        \n",
    "        plot = requests.get(url,timeout=10)\n",
    "        image = plot.content\n",
    "        print(directory)\n",
    "        with open(directory, 'wb') as file:\n",
    "            file.write(image)\n",
    "    except:\n",
    "        print(\"Error:\", directory)"
   ]
  },
  {
   "cell_type": "code",
   "execution_count": 7,
   "metadata": {},
   "outputs": [],
   "source": [
    "\n",
    "images_directory = os.path.join(base_directory, 'images')\n",
    "masks_directory = os.path.join(base_directory, 'masks')\n",
    "allmasks = os.listdir(all_masks_directory)\n",
    "for name in os.listdir(images_directory):\n",
    "    if name in allmasks:\n",
    "        image_direction = os.path.join(all_masks_directory, name)\n",
    "        new_direction = os.path.join(masks_directory, name)\n",
    "        shutil.copy(image_direction, new_direction)"
   ]
  }
 ],
 "metadata": {
  "kernelspec": {
   "display_name": "Python 3.9.5 ('tensorflow')",
   "language": "python",
   "name": "python3"
  },
  "language_info": {
   "codemirror_mode": {
    "name": "ipython",
    "version": 3
   },
   "file_extension": ".py",
   "mimetype": "text/x-python",
   "name": "python",
   "nbconvert_exporter": "python",
   "pygments_lexer": "ipython3",
   "version": "3.9.5"
  },
  "orig_nbformat": 4,
  "vscode": {
   "interpreter": {
    "hash": "7df6111708a930f1435d4476e602787c04b68c838a0c4e589aa1a4ba3b9fc581"
   }
  }
 },
 "nbformat": 4,
 "nbformat_minor": 2
}
